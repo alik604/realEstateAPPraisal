{
 "cells": [
  {
   "cell_type": "code",
   "execution_count": 5,
   "metadata": {},
   "outputs": [],
   "source": [
    "import attr\n",
    "from bs4 import BeautifulSoup\n",
    "import requests\n",
    "import pandas as pd\n",
    "import warnings\n",
    "\n",
    "from IPython.core.interactiveshell import InteractiveShell\n",
    "InteractiveShell.ast_node_interactivity = \"all\"\n",
    "\n",
    "# warnings.filterwarnings('ignore')\n"
   ]
  },
  {
   "cell_type": "code",
   "execution_count": 42,
   "metadata": {},
   "outputs": [
    {
     "ename": "NameError",
     "evalue": "name 'wget' is not defined",
     "output_type": "error",
     "traceback": [
      "\u001b[1;31m---------------------------------------------------------------------------\u001b[0m",
      "\u001b[1;31mNameError\u001b[0m                                 Traceback (most recent call last)",
      "\u001b[1;32m~\\AppData\\Local\\Temp/ipykernel_6044/391923867.py\u001b[0m in \u001b[0;36m<module>\u001b[1;34m\u001b[0m\n\u001b[1;32m----> 1\u001b[1;33m \u001b[0mwget\u001b[0m\u001b[1;33m\u001b[0m\u001b[1;33m\u001b[0m\u001b[0m\n\u001b[0m",
      "\u001b[1;31mNameError\u001b[0m: name 'wget' is not defined"
     ]
    }
   ],
   "source": [
    "wget"
   ]
  },
  {
   "cell_type": "code",
   "execution_count": 40,
   "metadata": {},
   "outputs": [
    {
     "data": {
      "text/plain": [
       "[<div class=\"container\">\n",
       " <script>document.getElementsByClassName(\"container\")[0].style.display = \"none\";</script>\n",
       " <noscript>This page requires JavaScript!</noscript>\n",
       " <div class=\"row center-block\">\n",
       " <img alt=\"0\" class=\"logo-realtor\" src=\"https://b2cdata.marketing.moveaws.com/forcecaptcha/images/realtor.png\"/>\n",
       " <br/>\n",
       " <br/>\n",
       " <h1 class=\"title-force\">Pardon Our Interruption...</h1>\n",
       " </div>\n",
       " <div class=\"row\">\n",
       " <div class=\"content col-lg-2 col-sm-2\"></div>\n",
       " <div class=\"container-force content col-lg-8 col-sm-8\">\n",
       " <p>\n",
       "         As you were browsing, something about your browser made us think you might be a bot. There are a few reasons this might happen, including:\n",
       "       </p>\n",
       " <ul>\n",
       " <li>You're a power user moving through this website with super-human speed</li>\n",
       " <li>You've disabled JavaScript and/or cookies in your web browser</li>\n",
       " <li>A third-party browser plugin is preventing JavaScript from running.</li>\n",
       " </ul>\n",
       " <p>\n",
       "           Reference ID: #e16d5e17-6861-11ec-a62e-4e6d684b575a\n",
       "       </p>\n",
       " <script>showBlockPage();</script>\n",
       " <p class=\"note\"> Please complete the Challenge below, to regain access to the site.</p>\n",
       " <br/>\n",
       " <br/>\n",
       " <div id=\"px-captcha\">\n",
       " </div>\n",
       " </div>\n",
       " </div>\n",
       " <div class=\"row center-block\">\n",
       " <h1 class=\"contact-us\">\n",
       "       Please contact Customer Service at (800) 878-4166 <br/> \u0003or unblockrequest@realtor.com with any issues. Please include the Reference ID shown above.\n",
       "     </h1>\n",
       " </div>\n",
       " </div>,\n",
       " <div class=\"row center-block\">\n",
       " <img alt=\"0\" class=\"logo-realtor\" src=\"https://b2cdata.marketing.moveaws.com/forcecaptcha/images/realtor.png\"/>\n",
       " <br/>\n",
       " <br/>\n",
       " <h1 class=\"title-force\">Pardon Our Interruption...</h1>\n",
       " </div>,\n",
       " <div class=\"row\">\n",
       " <div class=\"content col-lg-2 col-sm-2\"></div>\n",
       " <div class=\"container-force content col-lg-8 col-sm-8\">\n",
       " <p>\n",
       "         As you were browsing, something about your browser made us think you might be a bot. There are a few reasons this might happen, including:\n",
       "       </p>\n",
       " <ul>\n",
       " <li>You're a power user moving through this website with super-human speed</li>\n",
       " <li>You've disabled JavaScript and/or cookies in your web browser</li>\n",
       " <li>A third-party browser plugin is preventing JavaScript from running.</li>\n",
       " </ul>\n",
       " <p>\n",
       "           Reference ID: #e16d5e17-6861-11ec-a62e-4e6d684b575a\n",
       "       </p>\n",
       " <script>showBlockPage();</script>\n",
       " <p class=\"note\"> Please complete the Challenge below, to regain access to the site.</p>\n",
       " <br/>\n",
       " <br/>\n",
       " <div id=\"px-captcha\">\n",
       " </div>\n",
       " </div>\n",
       " </div>,\n",
       " <div class=\"content col-lg-2 col-sm-2\"></div>,\n",
       " <div class=\"container-force content col-lg-8 col-sm-8\">\n",
       " <p>\n",
       "         As you were browsing, something about your browser made us think you might be a bot. There are a few reasons this might happen, including:\n",
       "       </p>\n",
       " <ul>\n",
       " <li>You're a power user moving through this website with super-human speed</li>\n",
       " <li>You've disabled JavaScript and/or cookies in your web browser</li>\n",
       " <li>A third-party browser plugin is preventing JavaScript from running.</li>\n",
       " </ul>\n",
       " <p>\n",
       "           Reference ID: #e16d5e17-6861-11ec-a62e-4e6d684b575a\n",
       "       </p>\n",
       " <script>showBlockPage();</script>\n",
       " <p class=\"note\"> Please complete the Challenge below, to regain access to the site.</p>\n",
       " <br/>\n",
       " <br/>\n",
       " <div id=\"px-captcha\">\n",
       " </div>\n",
       " </div>,\n",
       " <div id=\"px-captcha\">\n",
       " </div>,\n",
       " <div class=\"row center-block\">\n",
       " <h1 class=\"contact-us\">\n",
       "       Please contact Customer Service at (800) 878-4166 <br/> \u0003or unblockrequest@realtor.com with any issues. Please include the Reference ID shown above.\n",
       "     </h1>\n",
       " </div>]"
      ]
     },
     "execution_count": 40,
     "metadata": {},
     "output_type": "execute_result"
    }
   ],
   "source": [
    "page = requests.get( url, verify=False, headers={'User-Agent':  user_agent})\n",
    "soup = BeautifulSoup(page.content, 'html.parser')\n",
    "pages = soup.find_all('span', class_=\"page\")\n",
    "pages = soup.find_all(\"div\")\n",
    "pages"
   ]
  },
  {
   "cell_type": "code",
   "execution_count": null,
   "metadata": {},
   "outputs": [],
   "source": []
  },
  {
   "cell_type": "code",
   "execution_count": 16,
   "metadata": {},
   "outputs": [
    {
     "ename": "TypeError",
     "evalue": "parse_homes() takes 1 positional argument but 2 were given",
     "output_type": "error",
     "traceback": [
      "\u001b[1;31m---------------------------------------------------------------------------\u001b[0m",
      "\u001b[1;31mTypeError\u001b[0m                                 Traceback (most recent call last)",
      "\u001b[1;32m~\\AppData\\Local\\Temp/ipykernel_6044/2038531498.py\u001b[0m in \u001b[0;36m<module>\u001b[1;34m\u001b[0m\n\u001b[0;32m     11\u001b[0m \u001b[0msoup\u001b[0m \u001b[1;33m=\u001b[0m \u001b[0mBeautifulSoup\u001b[0m\u001b[1;33m(\u001b[0m\u001b[0mpage\u001b[0m\u001b[1;33m.\u001b[0m\u001b[0mcontent\u001b[0m\u001b[1;33m,\u001b[0m \u001b[1;34m'html.parser'\u001b[0m\u001b[1;33m)\u001b[0m\u001b[1;33m\u001b[0m\u001b[1;33m\u001b[0m\u001b[0m\n\u001b[0;32m     12\u001b[0m \u001b[1;33m\u001b[0m\u001b[0m\n\u001b[1;32m---> 13\u001b[1;33m \u001b[0mparse_homes\u001b[0m\u001b[1;33m(\u001b[0m\u001b[0msoup\u001b[0m\u001b[1;33m,\u001b[0m \u001b[0msoup\u001b[0m\u001b[1;33m)\u001b[0m\u001b[1;33m\u001b[0m\u001b[1;33m\u001b[0m\u001b[0m\n\u001b[0m\u001b[0;32m     14\u001b[0m \u001b[1;33m\u001b[0m\u001b[0m\n\u001b[0;32m     15\u001b[0m \u001b[1;33m\u001b[0m\u001b[0m\n",
      "\u001b[1;31mTypeError\u001b[0m: parse_homes() takes 1 positional argument but 2 were given"
     ]
    }
   ],
   "source": [
    "# url = \"https://www.realtor.com/soldhomeprices/Woodbury_MN\"\n",
    "url = \"https://www.realtor.com/realestateandhomes-search/Chicago_IL/show-recently-sold\"\n",
    "user_agent ='Mozilla/5.0 (Windows NT 6.1; WOW64) AppleWebKit/537.36 (KHTML, like Gecko) Chrome/41.0.2272.101 Safari/537.36'\n",
    "full_home_list = []\n",
    "pages = 0\n",
    "\n",
    "########################################################################################################################\n",
    "\n",
    "i = 1 # for i in range(2, pages + 1):\n",
    "page = requests.get(url + \"/pg-\" + str(i), verify=False, headers={'User-Agent': user_agent})\n",
    "soup = BeautifulSoup(page.content, 'html.parser')\n",
    "\n",
    "\n",
    "ipages = int(pages[3].get_text().replace('\\n', ''))\n",
    "pages = ipages\n",
    "full_home_list = parse_homes(soup)\n",
    "\n",
    "\n",
    "parse_homes(soup, soup)\n",
    "\n",
    "\n",
    "# full_home_list = full_home_list + parse_homes(soup)\n",
    "# print(f\"processed {i} of {pages}\")\n",
    "# df = pd.DataFrame(full_home_list)\n",
    "# df = clean_and_convert(df)\n",
    "# df.head()\n",
    "\n",
    "\n",
    "\n",
    "def sanitize(item):\n",
    "    return item.get_text().replace('\\n', '')\n",
    "\n",
    "\n",
    "def parse_homes(soup):\n",
    "    details = soup.find_all('div', class_='detail-wrap')\n",
    "    homes = []\n",
    "    for house in details:\n",
    "        home = {}\n",
    "        home['price'] = sanitize(house.find(class_=\"data-price\"))\n",
    "        home['type'] = sanitize(house.find(class_=\"property-type\"))\n",
    "        home['beds'] = sanitize(house.find(attrs={\"data-label\": \"property-meta-beds\"}))\n",
    "        home['baths'] = sanitize(house.find(attrs={\"data-label\": \"property-meta-baths\"}))\n",
    "        home['sqft'] = sanitize(house.find(attrs={\"data-label\": \"property-meta-sqft\"}))\n",
    "        home['garages'] = sanitize(house.find(attrs={\"data-label\": \"property-meta-garage\"}))\n",
    "        home['street'] = sanitize(house.find(class_=\"listing-street-address\"))\n",
    "        home['city'] = sanitize(house.find(class_=\"listing-city\"))\n",
    "        home['region'] = sanitize(house.find(class_=\"listing-region\"))\n",
    "        home['postal'] = sanitize(house.find(class_=\"listing-postal\"))\n",
    "        homes.append(home)\n",
    "    return homes\n",
    "\n",
    "\n",
    "\n",
    "def clean_and_convert(df):\n",
    "    df['bath_convert'] = df.baths.apply(lambda x: x.split(\" \")[0].replace(\"+\", \"\"))\n",
    "    df['bed_convert'] = df.beds.apply(lambda x: x.split(\" \")[0].replace(\"+\", \"\"))\n",
    "    df['garage_convert'] = df.garages.apply(lambda x: x.split(\" \")[0].replace(\"+\", \"\"))\n",
    "    df['sqft_convert'] = df.sqft.apply(lambda x: x.split(\" \")[0].replace(\"+\", \"\").replace(\",\", \"\"))\n",
    "    df['price_convert'] = df.price.apply(lambda x: x.replace(\"$\", \"\").replace(\",\", \"\"))\n",
    "    # df.drop(df[df.bath_convert == \"\"].index, inplace=True, axis=0)\n",
    "    # df.drop(df[df.bed_convert == \"\"].index, inplace=True, axis=0)\n",
    "    df.garage_convert = df.garage_convert.apply(lambda x: 0 if x == '' else x)\n",
    "    df.drop(df[df.sqft_convert == ''].index, inplace=True, axis=0)\n",
    "    df.bath_convert = df.bath_convert.astype('float')\n",
    "    df.bed_convert = df.bed_convert.astype('float')\n",
    "    df.garage_convert = df.garage_convert.astype('float')\n",
    "    df.sqft_convert = df.sqft_convert.astype('float')\n",
    "    df.price_convert = df.price_convert.astype('float')\n",
    "    return df\n",
    "\n",
    "        \n"
   ]
  },
  {
   "cell_type": "code",
   "execution_count": null,
   "metadata": {},
   "outputs": [],
   "source": []
  },
  {
   "cell_type": "code",
   "execution_count": null,
   "metadata": {},
   "outputs": [],
   "source": []
  },
  {
   "cell_type": "code",
   "execution_count": null,
   "metadata": {},
   "outputs": [],
   "source": []
  },
  {
   "cell_type": "code",
   "execution_count": null,
   "metadata": {},
   "outputs": [],
   "source": []
  },
  {
   "cell_type": "code",
   "execution_count": null,
   "metadata": {},
   "outputs": [],
   "source": []
  },
  {
   "cell_type": "code",
   "execution_count": null,
   "metadata": {},
   "outputs": [],
   "source": []
  }
 ],
 "metadata": {
  "interpreter": {
   "hash": "fc9774c95e1acddf3b9cdf0e0e200d52ed535cd76ee62e30c19ec89260f93572"
  },
  "kernelspec": {
   "display_name": "Python 3.10.1 64-bit",
   "language": "python",
   "name": "python3"
  },
  "language_info": {
   "codemirror_mode": {
    "name": "ipython",
    "version": 3
   },
   "file_extension": ".py",
   "mimetype": "text/x-python",
   "name": "python",
   "nbconvert_exporter": "python",
   "pygments_lexer": "ipython3",
   "version": "3.10.1"
  },
  "orig_nbformat": 4
 },
 "nbformat": 4,
 "nbformat_minor": 2
}
